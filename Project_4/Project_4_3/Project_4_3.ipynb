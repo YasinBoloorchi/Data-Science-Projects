{
 "cells": [
  {
   "cell_type": "markdown",
   "metadata": {},
   "source": [
    "# Project 4.3. K-means and FCM clustering on iris datase"
   ]
  },
  {
   "cell_type": "code",
   "execution_count": 1,
   "metadata": {},
   "outputs": [],
   "source": [
    "# for importing iris dataset\n",
    "from sklearn import datasets\n",
    "\n",
    "# clustering algorithms\n",
    "from sklearn.cluster import KMeans\n",
    "from fcmeans import FCM\n",
    "\n",
    "# function for clustering validation \n",
    "from sklearn.metrics.cluster import adjusted_rand_score\n",
    "from sklearn.metrics.cluster import normalized_mutual_info_score"
   ]
  },
  {
   "cell_type": "markdown",
   "metadata": {},
   "source": [
    "## Load iris dataset from sklearn datasets"
   ]
  },
  {
   "cell_type": "code",
   "execution_count": 2,
   "metadata": {},
   "outputs": [],
   "source": [
    "iris = datasets.load_iris()\n",
    "X = iris.data\n",
    "y = iris.target"
   ]
  },
  {
   "cell_type": "markdown",
   "metadata": {},
   "source": [
    "## K-means clustering and it's validation"
   ]
  },
  {
   "cell_type": "code",
   "execution_count": 3,
   "metadata": {},
   "outputs": [
    {
     "name": "stdout",
     "output_type": "stream",
     "text": [
      "targets: [0 0 0 0 0 0 0 0 0 0 0 0 0 0 0 0 0 0 0 0 0 0 0 0 0 0 0 0 0 0 0 0 0 0 0 0 0\n",
      " 0 0 0 0 0 0 0 0 0 0 0 0 0 1 1 1 1 1 1 1 1 1 1 1 1 1 1 1 1 1 1 1 1 1 1 1 1\n",
      " 1 1 1 1 1 1 1 1 1 1 1 1 1 1 1 1 1 1 1 1 1 1 1 1 1 1 2 2 2 2 2 2 2 2 2 2 2\n",
      " 2 2 2 2 2 2 2 2 2 2 2 2 2 2 2 2 2 2 2 2 2 2 2 2 2 2 2 2 2 2 2 2 2 2 2 2 2\n",
      " 2 2]\n",
      "\n",
      "\n",
      "clustered:\n",
      "\n",
      "K-MeansRandom Index validation: 0.7302382722834697\n",
      "\n",
      "K-Means NMI validation:  0.7581756800057784\n"
     ]
    }
   ],
   "source": [
    "clusters_numeber = 3\n",
    "k_means_model = KMeans(n_clusters=clusters_numeber)\n",
    "k_means_model.fit(X)\n",
    "k_means_labels = k_means_model.labels_\n",
    "print('targets:',y, end='\\n'*3)\n",
    "print('clustered:',)\n",
    "\n",
    "k_means_RI = adjusted_rand_score(k_means_model.labels_, y)\n",
    "print('\\nK-MeansRandom Index validation:', k_means_RI)\n",
    "\n",
    "k_means_NMI = normalized_mutual_info_score(k_means_labels, y)\n",
    "print('\\nK-Means NMI validation: ', k_means_NMI)"
   ]
  },
  {
   "cell_type": "markdown",
   "metadata": {},
   "source": [
    "## FCM clustering and it's validation"
   ]
  },
  {
   "cell_type": "code",
   "execution_count": 4,
   "metadata": {},
   "outputs": [
    {
     "name": "stdout",
     "output_type": "stream",
     "text": [
      "[0 0 0 0 0 0 0 0 0 0 0 0 0 0 0 0 0 0 0 0 0 0 0 0 0 0 0 0 0 0 0 0 0 0 0 0 0\n",
      " 0 0 0 0 0 0 0 0 0 0 0 0 0 1 1 1 1 1 1 1 1 1 1 1 1 1 1 1 1 1 1 1 1 1 1 1 1\n",
      " 1 1 1 1 1 1 1 1 1 1 1 1 1 1 1 1 1 1 1 1 1 1 1 1 1 1 2 2 2 2 2 2 2 2 2 2 2\n",
      " 2 2 2 2 2 2 2 2 2 2 2 2 2 2 2 2 2 2 2 2 2 2 2 2 2 2 2 2 2 2 2 2 2 2 2 2 2\n",
      " 2 2]\n",
      "\n",
      "[2 2 2 2 2 2 2 2 2 2 2 2 2 2 2 2 2 2 2 2 2 2 2 2 2 2 2 2 2 2 2 2 2 2 2 2 2\n",
      " 2 2 2 2 2 2 2 2 2 2 2 2 2 0 1 0 1 1 1 1 1 1 1 1 1 1 1 1 1 1 1 1 1 1 1 1 1\n",
      " 1 1 1 0 1 1 1 1 1 1 1 1 1 1 1 1 1 1 1 1 1 1 1 1 1 1 0 1 0 0 0 0 1 0 0 0 0\n",
      " 0 0 1 0 0 0 0 0 1 0 1 0 1 0 0 1 1 0 0 0 0 0 1 0 0 0 0 1 0 0 0 1 0 0 0 1 0\n",
      " 0 1]\n",
      "\n",
      "FCM Random Index validation: 0.7294203486015404\n",
      "\n",
      "FCM NMI validation 0.749623099014085\n"
     ]
    }
   ],
   "source": [
    "fcm_model = FCM(n_clusters=3)\n",
    "fcm_model.fit(X)\n",
    "fcm_labels = fcm_model.u.argmax(axis=1)\n",
    "\n",
    "print(y, end='\\n'*2)\n",
    "print(fcm_labels)\n",
    "\n",
    "fcm_RI = adjusted_rand_score(fcm_labels, y)\n",
    "print('\\nFCM Random Index validation:', fcm_RI)\n",
    "\n",
    "fcm_NMI = normalized_mutual_info_score(fcm_labels, y)\n",
    "print('\\nFCM NMI validation', fcm_NMI)"
   ]
  }
 ],
 "metadata": {
  "kernelspec": {
   "display_name": "Python 3.6.9 64-bit",
   "language": "python",
   "name": "python36964bit961802c3c57f404db94264cc062300f4"
  },
  "language_info": {
   "codemirror_mode": {
    "name": "ipython",
    "version": 3
   },
   "file_extension": ".py",
   "mimetype": "text/x-python",
   "name": "python",
   "nbconvert_exporter": "python",
   "pygments_lexer": "ipython3",
   "version": "3.6.9"
  }
 },
 "nbformat": 4,
 "nbformat_minor": 2
}
