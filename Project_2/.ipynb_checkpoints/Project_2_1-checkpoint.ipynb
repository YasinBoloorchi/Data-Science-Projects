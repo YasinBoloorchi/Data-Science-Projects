{
 "cells": [
  {
   "cell_type": "code",
   "execution_count": 1,
   "metadata": {},
   "outputs": [],
   "source": [
    "import numpy as np\n",
    "import pandas as pd\n",
    "import matplotlib.pyplot as plt\n",
    "from os import walk"
   ]
  },
  {
   "cell_type": "code",
   "execution_count": 9,
   "metadata": {},
   "outputs": [],
   "source": [
    "data_path = './data'"
   ]
  },
  {
   "cell_type": "code",
   "execution_count": 23,
   "metadata": {},
   "outputs": [
    {
     "name": "stdout",
     "output_type": "stream",
     "text": [
      "#0 -> ./data/audiology.names\n",
      "#1 -> ./data/audiology.data\n",
      "#2 -> ./data/audiology.standardized.data\n",
      "#3 -> ./data/audiology.standardized.names\n"
     ]
    }
   ],
   "source": [
    "for root, dirs, files in walk(data_path):\n",
    "    all_files = [data_path+'/'+file for file in files if file.split('.')[-1] in ['data', 'names']]\n",
    "\n",
    "for file_num in range(len(all_files)):\n",
    "    print(f'#{file_num} ->', all_files[file_num])"
   ]
  },
  {
   "cell_type": "code",
   "execution_count": 40,
   "metadata": {},
   "outputs": [
    {
     "name": "stdout",
     "output_type": "stream",
     "text": [
      "\n",
      "age_gt_60\n",
      "air()\n",
      "airBoneGap\n",
      "ar_c()\n",
      "ar_u()\n",
      "bone()\n",
      "boneAbnormal\n",
      "bser()\n",
      "history_buzzing\n",
      "history_dizziness\n",
      "history_fluctuating\n",
      "history_fullness\n",
      "history_heredity\n",
      "history_nausea\n",
      "history_noise\n",
      "history_recruitment\n",
      "history_ringing\n",
      "history_roaring\n",
      "history_vomiting\n",
      "late_wave_poor\n",
      "m_at_2k\n",
      "m_cond_lt_1k\n",
      "m_gt_1k\n",
      "m_m_gt_2k\n",
      "m_m_sn\n",
      "m_m_sn_gt_1k\n",
      "m_m_sn_gt_2k\n",
      "m_m_sn_gt_500\n",
      "m_p_sn_gt_2k\n",
      "m_s_gt_500\n",
      "m_s_sn\n",
      "m_s_sn_gt_1k\n",
      "m_s_sn_gt_2k\n",
      "m_s_sn_gt_3k\n",
      "m_s_sn_gt_4k\n",
      "m_sn_2_3k\n",
      "m_sn_gt_1k\n",
      "m_sn_gt_2k\n",
      "m_sn_gt_3k\n",
      "m_sn_gt_4k\n",
      "m_sn_gt_500\n",
      "m_sn_gt_6k\n",
      "m_sn_lt_1k\n",
      "m_sn_lt_2k\n",
      "m_sn_lt_3k\n",
      "middle_wave_poor\n",
      "mod_gt_4k\n",
      "mod_mixed\n",
      "mod_s_mixed\n",
      "mod_s_sn_gt_500\n",
      "mod_sn\n",
      "mod_sn_gt_1k\n",
      "mod_sn_gt_2k\n",
      "mod_sn_gt_3k\n",
      "mod_sn_gt_4k\n",
      "mod_sn_gt_500\n",
      "notch_4k\n",
      "notch_at_4k\n",
      "o_ar_c()\n",
      "o_ar_u()\n",
      "s_sn_gt_1k\n",
      "s_sn_gt_2k\n",
      "s_sn_gt_4k\n",
      "speech()\n",
      "static_normal\n",
      "tymp()\n",
      "viith_nerve_signs\n",
      "wave_V_delayed\n",
      "waveform_ItoV_prolonged\n",
      "indentifier               (unique for each instance)\n",
      "\n",
      "class\n",
      "mixed_cochlear_age_otitis_media,mixed_poss_noise_om,\n",
      "cochlear_age,normal_ear,cochlear_poss_noise,cochlear_age_and_noise,\n",
      "acoustic_neuroma,mixed_cochlear_unk_ser_om,conductive_discontinuity,\n",
      "retrocochlear_unknown,conductive_fixation,bells_palsy,\n",
      "cochlear_noise_and_heredity,mixed_cochlear_unk_fixation,\n",
      "otitis_media,possible_menieres,possible_brainstem_disorder,\n",
      "cochlear_age_plus_poss_menieres,mixed_cochlear_age_s_om,\n",
      "mixed_cochlear_unk_discontinuity,mixed_poss_central_om\n",
      "\n"
     ]
    }
   ],
   "source": [
    "# in here we choose the index from above result. for example here we want data file with index 2\n",
    "# and data names file with index 3\n",
    "\n",
    "# open names file\n",
    "names_file = [line.strip() for line in open(all_files[3], 'r').readlines()]\n",
    "\n",
    "print_flag = False\n",
    "attrs = []\n",
    "for line in names_file:\n",
    "\n",
    "    \n",
    "    if 'Missing attributes' in line:\n",
    "        break\n",
    "    \n",
    "    if print_flag:\n",
    "        attr = line.split(':')[0]\n",
    "        attrs.append(attr)\n",
    "        print(attr)\n",
    "    \n",
    "    if 'Attribute' in line:\n",
    "        print_flag = True\n",
    "    \n",
    "\n",
    "        \n",
    "\n",
    "    \n",
    "\n",
    "\n",
    "# data_df = pd.read_csv(all_files[2])"
   ]
  },
  {
   "cell_type": "code",
   "execution_count": null,
   "metadata": {},
   "outputs": [],
   "source": []
  },
  {
   "cell_type": "code",
   "execution_count": null,
   "metadata": {},
   "outputs": [],
   "source": []
  }
 ],
 "metadata": {
  "kernelspec": {
   "display_name": "Python 3.6.9 64-bit",
   "language": "python",
   "name": "python36964bit961802c3c57f404db94264cc062300f4"
  },
  "language_info": {
   "codemirror_mode": {
    "name": "ipython",
    "version": 3
   },
   "file_extension": ".py",
   "mimetype": "text/x-python",
   "name": "python",
   "nbconvert_exporter": "python",
   "pygments_lexer": "ipython3",
   "version": "3.6.9"
  }
 },
 "nbformat": 4,
 "nbformat_minor": 2
}
