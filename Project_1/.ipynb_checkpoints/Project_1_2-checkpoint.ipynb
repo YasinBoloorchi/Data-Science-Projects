{
 "cells": [
  {
   "cell_type": "markdown",
   "metadata": {},
   "source": [
    "# Exercise "
   ]
  },
  {
   "cell_type": "code",
   "execution_count": 1,
   "metadata": {},
   "outputs": [],
   "source": [
    "import requests\n",
    "from bs4 import BeautifulSoup"
   ]
  },
  {
   "cell_type": "code",
   "execution_count": 2,
   "metadata": {},
   "outputs": [],
   "source": [
    "url = \"https://www.digikala.com/product/dkp-1891262/%D8%B3%D8%A7%D8%B9%D8%AA-%D9%85%DA%86%DB%8C-%D8%B9%D9%82%D8%B1%D8%A8%D9%87-%D8%A7%DB%8C-%D9%85%D8%B1%D8%AF%D8%A7%D9%86%D9%87-%D8%AA%D9%88%D9%86%DB%8C%D9%86%D9%88-%D9%84%D8%A7%D9%85%D8%A8%D9%88%D8%B1%DA%AF%DB%8C%D9%86%DB%8C-%DA%A9%D8%AF-tl-premio-bic-03\"\n",
    "page = requests.get(url)"
   ]
  },
  {
   "cell_type": "code",
   "execution_count": 3,
   "metadata": {},
   "outputs": [],
   "source": [
    "page_souped = BeautifulSoup(page.text, 'html.parser')"
   ]
  },
  {
   "cell_type": "markdown",
   "metadata": {},
   "source": [
    "##  1. Product Images"
   ]
  },
  {
   "cell_type": "code",
   "execution_count": 4,
   "metadata": {},
   "outputs": [
    {
     "data": {
      "text/html": [
       "<img src=\"https://dkstatics-public.digikala.com/digikala-products/112629529.jpg\"/>"
      ],
      "text/plain": [
       "<IPython.core.display.Image object>"
      ]
     },
     "metadata": {},
     "output_type": "display_data"
    },
    {
     "data": {
      "text/html": [
       "<img src=\"https://dkstatics-public.digikala.com/digikala-products/112633253.jpg\"/>"
      ],
      "text/plain": [
       "<IPython.core.display.Image object>"
      ]
     },
     "metadata": {},
     "output_type": "display_data"
    },
    {
     "data": {
      "text/html": [
       "<img src=\"https://dkstatics-public.digikala.com/digikala-products/112633263.jpg\"/>"
      ],
      "text/plain": [
       "<IPython.core.display.Image object>"
      ]
     },
     "metadata": {},
     "output_type": "display_data"
    },
    {
     "data": {
      "text/html": [
       "<img src=\"https://dkstatics-public.digikala.com/digikala-products/112633273.jpg\"/>"
      ],
      "text/plain": [
       "<IPython.core.display.Image object>"
      ]
     },
     "metadata": {},
     "output_type": "display_data"
    },
    {
     "data": {
      "text/html": [
       "<img src=\"https://dkstatics-public.digikala.com/digikala-products/112633281.jpg\"/>"
      ],
      "text/plain": [
       "<IPython.core.display.Image object>"
      ]
     },
     "metadata": {},
     "output_type": "display_data"
    },
    {
     "data": {
      "text/html": [
       "<img src=\"https://dkstatics-public.digikala.com/digikala-products/112633292.jpg\"/>"
      ],
      "text/plain": [
       "<IPython.core.display.Image object>"
      ]
     },
     "metadata": {},
     "output_type": "display_data"
    },
    {
     "data": {
      "text/html": [
       "<img src=\"https://dkstatics-public.digikala.com/digikala-products/112633302.jpg\"/>"
      ],
      "text/plain": [
       "<IPython.core.display.Image object>"
      ]
     },
     "metadata": {},
     "output_type": "display_data"
    }
   ],
   "source": [
    "from IPython.display import Image\n",
    "from IPython.core.display import HTML \n",
    "\n",
    "c_gallery = page_souped.findAll('div', attrs={'class':'c-gallery'})[0]\n",
    "\n",
    "for image in c_gallery.findAll('img'):\n",
    "#     print(image['data-src'].split('?')[0])\n",
    "    display(Image(url= image['data-src'].split('?')[0]))\n"
   ]
  },
  {
   "cell_type": "markdown",
   "metadata": {},
   "source": [
    "## 2.Product Pramiters Summary"
   ]
  },
  {
   "cell_type": "code",
   "execution_count": 5,
   "metadata": {},
   "outputs": [
    {
     "name": "stdout",
     "output_type": "stream",
     "text": [
      "تاریخ شمار: دارد\n",
      "--------------------------------------------------\n",
      "فرم قاب: گرد\n",
      "--------------------------------------------------\n",
      "مورد استفاده: روزمره،                                                                            رسمی،                                                                            اسپرت،                                                                            لوکس،                                                                            فشن\n",
      "--------------------------------------------------\n",
      "کرنومتر یا کرنوگراف: دارد\n",
      "--------------------------------------------------\n",
      "سرعت سنج: ندارد\n",
      "--------------------------------------------------\n",
      "عقربه های شب تاب: دارد\n",
      "--------------------------------------------------\n",
      "میزان مقاومت در برابر فشار آب: 10ATM\n",
      "--------------------------------------------------\n",
      "سال تولید: بهار / تابستان 2018\n",
      "--------------------------------------------------\n",
      "کشور مبدا برند: ایتالیا\n",
      "--------------------------------------------------\n",
      "جنس بدنه: استیل\n",
      "--------------------------------------------------\n",
      "جنس بند: چرم\n",
      "--------------------------------------------------\n"
     ]
    }
   ],
   "source": [
    "all_product_prams = page_souped.findAll('div', attrs={'class':'c-product__params js-is-expandable'})[0]\n",
    "each_product_prams = all_product_prams.findAll('li')\n",
    "\n",
    "# product\n",
    "for pram in each_product_prams:\n",
    "    try:\n",
    "        print(pram.findAll('span')[0].text.strip(),end=' ')\n",
    "        print(pram.findAll('span')[1].text.strip())\n",
    "        print('-'*50)\n",
    "    except:\n",
    "        pass"
   ]
  },
  {
   "cell_type": "markdown",
   "metadata": {},
   "source": [
    "## 3.Product Summary"
   ]
  },
  {
   "cell_type": "code",
   "execution_count": 6,
   "metadata": {},
   "outputs": [
    {
     "name": "stdout",
     "output_type": "stream",
     "text": [
      "ساعت مچی عقربه‌ای و کلاسیک‌اسپرت «لامبورگینی» مدل «Lamborghini TL Premio Bic 03» از لوکس‌ترین ساعت‌های این برند مطرح ایتالیایی است. این مدل به تعداد محدود تولید شده (Limited Edition) و با توجه به طراحی، کیفیت، دقت عملکرد و قابلیت‌ها توجه بسیاری را به خود جلب می‌کند. برای این ساعت یک موتور کوارتز سوییسی در نظر گرفته شده که بدون نیاز به باتری کار می‌کند و انرژی مورد نیاز را از طریق یک پاندول در پشت ساعت و حرکات معمول دست تامین می‌کند. برخورداری از قابلیت‌های متعدد با توجه به این مکانیزم اهمیت بیشتری یافته و به جذابیت آن می‌افزاید. قابلیت‌های این مدل عبارت است از کرنوگراف که دو شمارشگر با توجه به آن روی صفحه طراحی شده و تاریخ‌شماری کارآمد که در موقعیت ساعت 6 مشاهده می‌شود. تاریخ‌شمار که قابلیت کارآمد این مدل است، شماره‌ی روز ماه را نمایش می‌دهد. در حاشیه‌ی صفحه هم شاهد ارقام مربوط به تاکی‌متر یا سرعت‌سنج هستیم که طراحی ساعت را بیش از پیش به یک ساعت اسپرت نزدیک می‌کند. از ساعت لامبورگینی TL Premio Bic 03 در کل دنیا تنها 100 عدد تولید شده که به نوبه‌ی خود یک ویژگی خاص و جذاب برای این مدل لوکس محسوب می‌شود. شیشه‌ی ضد خش سافایر، مقاومت بالا در برابر آب و بدنه‌ی استیل از جمله مهم‌ترین مشخصات کیفی ساعت هستند که نشان از ماندگاری بالای ساعت دارند . صفحه‌ی پشتی شفاف، طرح و نقش خاص و جذاب صفحه، بند چرمی با قفلی شیک و جذاب از نوع سگکی قلاب‌دار از دیگر موارد جذاب و جالب‌توجه در طراحی ساعت است. در مجموع ساعت  limited edition یا تولید محدود TL-Premio Bic 03 را می‌توان یکی از خاص‌ترین ساعت‌های کلاسیک‌اسپرت لوکس و اتوماتیک این برند برشمرد که از طراحی کم‌نظیر و همه‌پسندی بهره می‌برد.\n"
     ]
    }
   ],
   "source": [
    "summary = page_souped.findAll('section', attrs={'class':'c-content-expert__summary'})[0].findAll('p')[0]\n",
    "print(summary.text)"
   ]
  },
  {
   "cell_type": "markdown",
   "metadata": {},
   "source": [
    "## 4.Technical Specifications"
   ]
  },
  {
   "cell_type": "code",
   "execution_count": 7,
   "metadata": {},
   "outputs": [
    {
     "name": "stdout",
     "output_type": "stream",
     "text": [
      "فرم قاب --> گرد,\n",
      " --------------------------------------------------\n",
      "مورد استفاده --> روزمره,رسمی,اسپرت,لوکس,فشن,\n",
      " --------------------------------------------------\n",
      "رنگ صفحه --> مشکی,\n",
      " --------------------------------------------------\n",
      "جنس شیشه --> یاقوت (سافایر),\n",
      " --------------------------------------------------\n",
      "جنس بدنه --> استیل,\n",
      " --------------------------------------------------\n",
      "توضیحات جنس بدنه --> ساخته شده از استیل مشکی و نقره ای رنگ با بهترین متریال,\n",
      " --------------------------------------------------\n",
      "جنس بند --> چرم,\n",
      " --------------------------------------------------\n",
      "رنگ بند --> مشکی,\n",
      " --------------------------------------------------\n",
      "نوع قفل بند --> سگکی ضامن‌دار,\n",
      " --------------------------------------------------\n",
      "رنگ بدنه --> مشکی,نقره‌ای,\n",
      " --------------------------------------------------\n",
      "تاریخ شمار --> دارد,\n",
      " --------------------------------------------------\n",
      "کرنومتر یا کرنوگراف --> دارد,\n",
      " --------------------------------------------------\n",
      "سرعت سنج --> ندارد,\n",
      " --------------------------------------------------\n",
      "عقربه های شب تاب --> دارد,\n",
      " --------------------------------------------------\n",
      "مقاومت در برابر آب --> دارد,\n",
      " --------------------------------------------------\n",
      "میزان مقاومت در برابر فشار آب --> 10ATM,\n",
      " --------------------------------------------------\n",
      "سال تولید --> بهار / تابستان 2018,\n",
      " --------------------------------------------------\n",
      "کشور مبدا برند --> ایتالیا,\n",
      " --------------------------------------------------\n",
      "کشور تولید کننده --> سوییس,\n",
      " --------------------------------------------------\n",
      "کد کالا --> Premio Bic 03,\n",
      " --------------------------------------------------\n",
      "قابلیت نمایش 24 ساعته --> ندارد,\n",
      " --------------------------------------------------\n"
     ]
    }
   ],
   "source": [
    "options = page_souped.findAll('article')[2] #, attrs={'class':'c-params is-active'})\n",
    "for pram in options.findAll('li'):\n",
    "    print(pram.findAll('span')[0].text.strip(), end=' --> ')\n",
    "    each_pram = [pram.strip() for pram in pram.findAll('span')[1].text.split(',')]\n",
    "    for pram in each_pram:\n",
    "        print(pram, end=',')\n",
    "        \n",
    "    print('\\n','-'*50)"
   ]
  },
  {
   "cell_type": "markdown",
   "metadata": {},
   "source": [
    "### 6.Product Price"
   ]
  },
  {
   "cell_type": "code",
   "execution_count": 8,
   "metadata": {},
   "outputs": [
    {
     "name": "stdout",
     "output_type": "stream",
     "text": [
      "Product Price:  ۵۸,۸۵۰,۰۰۰\n"
     ]
    }
   ],
   "source": [
    "price = page_souped.findAll('div', attrs={'class':'c-product__seller-price-raw js-price-value'})[0].text.strip()\n",
    "print('Product Price: ', price)"
   ]
  }
 ],
 "metadata": {
  "kernelspec": {
   "display_name": "Python 3.6.9 64-bit",
   "language": "python",
   "name": "python36964bit961802c3c57f404db94264cc062300f4"
  },
  "language_info": {
   "codemirror_mode": {
    "name": "ipython",
    "version": 3
   },
   "file_extension": ".py",
   "mimetype": "text/x-python",
   "name": "python",
   "nbconvert_exporter": "python",
   "pygments_lexer": "ipython3",
   "version": "3.6.9"
  }
 },
 "nbformat": 4,
 "nbformat_minor": 2
}
